{
 "cells": [
  {
   "cell_type": "code",
   "execution_count": 0,
   "metadata": {
    "application/vnd.databricks.v1+cell": {
     "cellMetadata": {
      "byteLimit": 2048000,
      "rowLimit": 10000
     },
     "inputWidgets": {},
     "nuid": "02d77bb4-0d8f-4810-83e6-c761f0a1eed2",
     "showTitle": false,
     "tableResultSettingsMap": {},
     "title": ""
    }
   },
   "outputs": [],
   "source": [
    "# code is run only once when mount is created: we can use the same mount in all notebook provided its in the same container\n",
    "dbutils.fs.mount(\n",
    "    source=\"wasbs://dream-datalake@studystorage28.blob.core.windows.net/\",\n",
    "    mount_point=\"/mnt/dream/datalake/\",\n",
    "    extra_configs={\n",
    "        \"fs.azure.sas.dream-datalake.studystorage28.blob.core.windows.net\": \"sp=racwdlmeop&st=2025-09-03T10:02:14Z&se=2025-09-03T18:17:14Z&spr=https&sv=2024-11-04&sr=c&sig=yYzFCQuaehTNm97Nd0tiFNG3HTeBV9HNVti0XGbiHmA%3D\"\n",
    "    }\n",
    ")"
   ]
  },
  {
   "cell_type": "code",
   "execution_count": 0,
   "metadata": {
    "application/vnd.databricks.v1+cell": {
     "cellMetadata": {
      "byteLimit": 2048000,
      "rowLimit": 10000
     },
     "inputWidgets": {},
     "nuid": "8ea6ed66-1b9a-4fa4-8225-758e08db3b87",
     "showTitle": false,
     "tableResultSettingsMap": {},
     "title": ""
    }
   },
   "outputs": [],
   "source": [
    "dbutils.fs.ls(\"/mnt/dream/datalake/config\")"
   ]
  },
  {
   "cell_type": "code",
   "execution_count": 0,
   "metadata": {
    "application/vnd.databricks.v1+cell": {
     "cellMetadata": {
      "byteLimit": 2048000,
      "rowLimit": 10000
     },
     "inputWidgets": {},
     "nuid": "4bfdb395-30aa-4143-8ace-2a49de0c3671",
     "showTitle": false,
     "tableResultSettingsMap": {},
     "title": ""
    }
   },
   "outputs": [],
   "source": [
    "dbutils.fs.mount(\n",
    "    source=\"wasbs://last-landing@studystorage28.blob.core.windows.net/\",\n",
    "    mount_point=\"/mnt/end/target/\",\n",
    "    extra_configs={\n",
    "        \"fs.azure.sas.last-landing.studystorage28.blob.core.windows.net\": \"sp=racwdlmeop&st=2025-08-21T13:19:14Z&se=2025-08-21T21:34:14Z&spr=https&sv=2024-11-04&sr=c&sig=Tgnd8rKKB82GtODfLt9siHG1RLQc68EgdXhz7IpZSc4%3D\"\n",
    "    }\n",
    ")"
   ]
  }
 ],
 "metadata": {
  "application/vnd.databricks.v1+notebook": {
   "computePreferences": null,
   "dashboards": [],
   "environmentMetadata": {
    "base_environment": "",
    "environment_version": "2"
   },
   "inputWidgetPreferences": null,
   "language": "python",
   "notebookMetadata": {
    "pythonIndentUnit": 4
   },
   "notebookName": "mount_point",
   "widgets": {}
  },
  "language_info": {
   "name": "python"
  }
 },
 "nbformat": 4,
 "nbformat_minor": 0
}
