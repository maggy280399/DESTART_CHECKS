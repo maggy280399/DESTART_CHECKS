{
 "cells": [
  {
   "cell_type": "code",
   "execution_count": 0,
   "metadata": {
    "application/vnd.databricks.v1+cell": {
     "cellMetadata": {
      "byteLimit": 2048000,
      "rowLimit": 10000
     },
     "inputWidgets": {},
     "nuid": "02d77bb4-0d8f-4810-83e6-c761f0a1eed2",
     "showTitle": false,
     "tableResultSettingsMap": {},
     "title": ""
    }
   },
   "outputs": [],
   "source": [
    "%python\n",
    "dbutils.fs.mount(\n",
    "    source=\"wasbs://dream-datalake@studystorage28.blob.core.windows.net/\",\n",
    "    mount_point=\"/mnt/dream/datalake/\",\n",
    "    extra_configs={\n",
    "        \"fs.azure.sas.dream-datalake.studystorage28.blob.core.windows.net\": \"sp=racwdlmeop&st=2025-08-21T13:19:14Z&se=2025-08-21T21:34:14Z&spr=https&sv=2024-11-04&sr=c&sig=Tgnd8rKKB82GtODfLt9siHG1RLQc68EgdXhz7IpZSc4%3D\"\n",
    "    }\n",
    ")"
   ]
  },
  {
   "cell_type": "code",
   "execution_count": 0,
   "metadata": {
    "application/vnd.databricks.v1+cell": {
     "cellMetadata": {
      "byteLimit": 2048000,
      "rowLimit": 10000
     },
     "inputWidgets": {},
     "nuid": "8ea6ed66-1b9a-4fa4-8225-758e08db3b87",
     "showTitle": false,
     "tableResultSettingsMap": {},
     "title": ""
    }
   },
   "outputs": [],
   "source": [
    "dbutils.fs.ls(\"/mnt/dream/datalake/Employees.csv\")"
   ]
  },
  {
   "cell_type": "code",
   "execution_count": 0,
   "metadata": {
    "application/vnd.databricks.v1+cell": {
     "cellMetadata": {
      "byteLimit": 2048000,
      "rowLimit": 10000
     },
     "inputWidgets": {},
     "nuid": "09fa867b-9af4-435e-981d-c657e80f87e0",
     "showTitle": false,
     "tableResultSettingsMap": {},
     "title": ""
    }
   },
   "outputs": [],
   "source": [
    "%python\n",
    "dbutils.fs.ls(\"dbfs:/mnt/dream/datalake/\")"
   ]
  },
  {
   "cell_type": "code",
   "execution_count": 0,
   "metadata": {
    "application/vnd.databricks.v1+cell": {
     "cellMetadata": {
      "byteLimit": 2048000,
      "rowLimit": 10000
     },
     "inputWidgets": {},
     "nuid": "4bfdb395-30aa-4143-8ace-2a49de0c3671",
     "showTitle": false,
     "tableResultSettingsMap": {},
     "title": ""
    }
   },
   "outputs": [],
   "source": [
    "dbutils.fs.mount(\n",
    "    source=\"wasbs://last-landing@studystorage28.blob.core.windows.net/\",\n",
    "    mount_point=\"/mnt/end/target/\",\n",
    "    extra_configs={\n",
    "        \"fs.azure.sas.last-landing.studystorage28.blob.core.windows.net\": \"sp=racwdlmeop&st=2025-08-21T13:19:14Z&se=2025-08-21T21:34:14Z&spr=https&sv=2024-11-04&sr=c&sig=Tgnd8rKKB82GtODfLt9siHG1RLQc68EgdXhz7IpZSc4%3D\"\n",
    "    }\n",
    ")"
   ]
  },
  {
   "cell_type": "code",
   "execution_count": 0,
   "metadata": {
    "application/vnd.databricks.v1+cell": {
     "cellMetadata": {
      "byteLimit": 2048000,
      "rowLimit": 10000
     },
     "inputWidgets": {},
     "nuid": "3c0c2578-92ed-4538-9110-62a1fa174f0d",
     "showTitle": false,
     "tableResultSettingsMap": {},
     "title": ""
    }
   },
   "outputs": [],
   "source": [
    "dbutils.fs.ls(\"dbfs:/mnt/dream/datalake/\")"
   ]
  }
 ],
 "metadata": {
  "application/vnd.databricks.v1+notebook": {
   "computePreferences": null,
   "dashboards": [],
   "environmentMetadata": {
    "base_environment": "",
    "environment_version": "2"
   },
   "inputWidgetPreferences": null,
   "language": "python",
   "notebookMetadata": {
    "pythonIndentUnit": 4
   },
   "notebookName": "config",
   "widgets": {}
  },
  "language_info": {
   "name": "python"
  }
 },
 "nbformat": 4,
 "nbformat_minor": 0
}
