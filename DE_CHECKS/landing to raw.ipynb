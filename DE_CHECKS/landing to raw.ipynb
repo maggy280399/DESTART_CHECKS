{
 "cells": [
  {
   "cell_type": "code",
   "execution_count": 0,
   "metadata": {
    "application/vnd.databricks.v1+cell": {
     "cellMetadata": {
      "byteLimit": 2048000,
      "rowLimit": 10000
     },
     "inputWidgets": {},
     "nuid": "539ed484-015e-467e-8fa3-825e154c9879",
     "showTitle": false,
     "tableResultSettingsMap": {},
     "title": ""
    }
   },
   "outputs": [],
   "source": [
    "Customer_df = spark.read.format(\"com.crealytics.spark.excel\").option(\"header\", \"true\").option(\"inferSchema\", \"true\").load(\"/mnt/dream/datalake/Dream_Super_Shop_Customer_Data.xlsx\")\n",
    "\n"
   ]
  },
  {
   "cell_type": "code",
   "execution_count": 0,
   "metadata": {
    "application/vnd.databricks.v1+cell": {
     "cellMetadata": {
      "byteLimit": 2048000,
      "rowLimit": 10000
     },
     "inputWidgets": {},
     "nuid": "8e2bc866-363d-4385-aad6-b87596883c46",
     "showTitle": false,
     "tableResultSettingsMap": {},
     "title": ""
    }
   },
   "outputs": [],
   "source": [
    "from pyspark.sql.functions import *\n",
    "from pyspark.sql.types import *\n",
    "from pyspark.sql.window import *\n",
    "\n",
    "\n",
    "Correct_schema  = {\n",
    "    \"CustomerID\": IntegerType(),\n",
    "    \"CustomerName\":StringType(),\n",
    "    \"BirthDate\": DateType(),\n",
    "    \"MaritalStatus\":StringType(),\n",
    "    \"Gender\":StringType(),\n",
    "    \"Occupation\":StringType(),\n",
    "    \"Branch\":StringType(),\n",
    "    \"PremiumCustomer\":StringType()\n",
    "}\n",
    "\n",
    "#schema type check\n",
    "\n",
    "for col_type, expected_type in Correct_schema.items():\n",
    "    Customer_df = Customer_df.withColumn(f\"{col_type}_is_valid\", col(col_type).try_cast(expected_type).isNotNull())\n",
    "    \n",
    "\n",
    "#null check\n",
    "Customer_df = Customer_df.withColumn(\"null_check\", when(col(\"CustomerID\").isNull() | col(\"CustomerName\").isNull() | col(\"BirthDate\").isNull() | col(\"MaritalStatus\").isNull() | col(\"Gender\").isNull() | col(\"Occupation\").isNull() | col(\"Branch\").isNull() | col(\"PremiumCustomer\").isNull(),\"NULL\").otherwise(\"NOT_NULL\"))\n",
    "\n",
    "#duplicate check\n",
    "\n",
    "window = Window.partitionBy(\"CustomerID\")\n",
    "Customer_df = Customer_df.withColumn(\"duplicate_check\", when(count(\"CustomerID\").over(window) > 1, \"DUPLICATE\").otherwise(\"NO_DUPLICATE\"))\n",
    "\n",
    "\n",
    "#taking Invalid records\n",
    "invalid_records = Customer_df.filter((col(\"null_check\") == \"NULL\") | (col(\"duplicate_check\") == \"DUPLICATE\") | (col(\"CustomerID_is_valid\") == False) | (col(\"CustomerName_is_valid\") == False) | (col(\"BirthDate_is_valid\") == False) | (col(\"MaritalStatus_is_valid\") == False) | (col(\"Gender_is_valid\") == False) | (col(\"Occupation_is_valid\") == False) | (col(\"Branch_is_valid\") == False) | (col(\"PremiumCustomer_is_valid\") == False))\n",
    "\n",
    "\n",
    "#creating table and storing\n",
    "spark.sql(\"CREATE DATABASE IF NOT EXISTS AUDIT\")\n",
    "\n",
    "invalid_records.write.format(\"delta\").mode(\"append\").saveAsTable(\"audit.invalid_records\")\n",
    "\n",
    "valid_records = Customer_df.subtract(invalid_records)\n",
    "\n",
    "\n",
    "\n"
   ]
  },
  {
   "cell_type": "code",
   "execution_count": 0,
   "metadata": {
    "application/vnd.databricks.v1+cell": {
     "cellMetadata": {
      "byteLimit": 2048000,
      "implicitDf": true,
      "rowLimit": 10000
     },
     "inputWidgets": {},
     "nuid": "a49687d1-8de4-44f0-bd75-4c2a3db1f3df",
     "showTitle": false,
     "tableResultSettingsMap": {},
     "title": ""
    }
   },
   "outputs": [],
   "source": [
    "%sql\n",
    "\n",
    "select * from invalid_records;"
   ]
  }
 ],
 "metadata": {
  "application/vnd.databricks.v1+notebook": {
   "computePreferences": null,
   "dashboards": [],
   "environmentMetadata": {
    "base_environment": "",
    "environment_version": "2"
   },
   "inputWidgetPreferences": null,
   "language": "python",
   "notebookMetadata": {
    "mostRecentlyExecutedCommandWithImplicitDF": {
     "commandId": 6269622771147182,
     "dataframes": [
      "_sqldf"
     ]
    },
    "pythonIndentUnit": 4
   },
   "notebookName": "landing to raw",
   "widgets": {}
  },
  "language_info": {
   "name": "python"
  }
 },
 "nbformat": 4,
 "nbformat_minor": 0
}
